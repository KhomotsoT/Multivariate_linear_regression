{
 "cells": [
  {
   "cell_type": "markdown",
   "metadata": {},
   "source": [
    "# Multivariate linear regression"
   ]
  },
  {
   "cell_type": "code",
   "execution_count": 1,
   "metadata": {},
   "outputs": [],
   "source": [
    "import pandas as pd\n",
    "import numpy as np\n",
    "import matplotlib.pyplot as plt\n",
    "import seaborn as sns\n",
    "%matplotlib inline\n",
    "from sklearn.model_selection import train_test_split\n",
    "from sklearn.linear_model import LinearRegression\n",
    "from sklearn.metrics import mean_squared_error, r2_score"
   ]
  },
  {
   "cell_type": "markdown",
   "metadata": {},
   "source": [
    " "
   ]
  },
  {
   "cell_type": "markdown",
   "metadata": {},
   "source": [
    "#### Reading and displaying csv files"
   ]
  },
  {
   "cell_type": "code",
   "execution_count": 2,
   "metadata": {},
   "outputs": [
    {
     "data": {
      "text/html": [
       "<div>\n",
       "<style scoped>\n",
       "    .dataframe tbody tr th:only-of-type {\n",
       "        vertical-align: middle;\n",
       "    }\n",
       "\n",
       "    .dataframe tbody tr th {\n",
       "        vertical-align: top;\n",
       "    }\n",
       "\n",
       "    .dataframe thead th {\n",
       "        text-align: right;\n",
       "    }\n",
       "</style>\n",
       "<table border=\"1\" class=\"dataframe\">\n",
       "  <thead>\n",
       "    <tr style=\"text-align: right;\">\n",
       "      <th></th>\n",
       "      <th>salary</th>\n",
       "      <th>exprior</th>\n",
       "      <th>yearsworked</th>\n",
       "      <th>yearsrank</th>\n",
       "      <th>market</th>\n",
       "      <th>degree</th>\n",
       "      <th>otherqual</th>\n",
       "      <th>position</th>\n",
       "      <th>male</th>\n",
       "      <th>Field</th>\n",
       "      <th>yearsabs</th>\n",
       "    </tr>\n",
       "  </thead>\n",
       "  <tbody>\n",
       "    <tr>\n",
       "      <td>0</td>\n",
       "      <td>53000.0</td>\n",
       "      <td>0</td>\n",
       "      <td>0</td>\n",
       "      <td>0</td>\n",
       "      <td>1.17</td>\n",
       "      <td>1</td>\n",
       "      <td>0</td>\n",
       "      <td>1</td>\n",
       "      <td>1</td>\n",
       "      <td>3</td>\n",
       "      <td>0</td>\n",
       "    </tr>\n",
       "    <tr>\n",
       "      <td>1</td>\n",
       "      <td>58000.0</td>\n",
       "      <td>1</td>\n",
       "      <td>0</td>\n",
       "      <td>0</td>\n",
       "      <td>1.24</td>\n",
       "      <td>1</td>\n",
       "      <td>0</td>\n",
       "      <td>1</td>\n",
       "      <td>1</td>\n",
       "      <td>2</td>\n",
       "      <td>0</td>\n",
       "    </tr>\n",
       "    <tr>\n",
       "      <td>2</td>\n",
       "      <td>45500.0</td>\n",
       "      <td>0</td>\n",
       "      <td>0</td>\n",
       "      <td>0</td>\n",
       "      <td>1.21</td>\n",
       "      <td>1</td>\n",
       "      <td>0</td>\n",
       "      <td>1</td>\n",
       "      <td>1</td>\n",
       "      <td>3</td>\n",
       "      <td>2</td>\n",
       "    </tr>\n",
       "    <tr>\n",
       "      <td>3</td>\n",
       "      <td>35782.0</td>\n",
       "      <td>0</td>\n",
       "      <td>2</td>\n",
       "      <td>1</td>\n",
       "      <td>0.99</td>\n",
       "      <td>1</td>\n",
       "      <td>0</td>\n",
       "      <td>1</td>\n",
       "      <td>1</td>\n",
       "      <td>4</td>\n",
       "      <td>1</td>\n",
       "    </tr>\n",
       "    <tr>\n",
       "      <td>4</td>\n",
       "      <td>34731.0</td>\n",
       "      <td>0</td>\n",
       "      <td>2</td>\n",
       "      <td>2</td>\n",
       "      <td>0.91</td>\n",
       "      <td>1</td>\n",
       "      <td>0</td>\n",
       "      <td>1</td>\n",
       "      <td>1</td>\n",
       "      <td>4</td>\n",
       "      <td>1</td>\n",
       "    </tr>\n",
       "  </tbody>\n",
       "</table>\n",
       "</div>"
      ],
      "text/plain": [
       "    salary  exprior  yearsworked  yearsrank  market  degree  otherqual  \\\n",
       "0  53000.0        0            0          0    1.17       1          0   \n",
       "1  58000.0        1            0          0    1.24       1          0   \n",
       "2  45500.0        0            0          0    1.21       1          0   \n",
       "3  35782.0        0            2          1    0.99       1          0   \n",
       "4  34731.0        0            2          2    0.91       1          0   \n",
       "\n",
       "   position  male  Field  yearsabs  \n",
       "0         1     1      3         0  \n",
       "1         1     1      2         0  \n",
       "2         1     1      3         2  \n",
       "3         1     1      4         1  \n",
       "4         1     1      4         1  "
      ]
     },
     "metadata": {},
     "output_type": "display_data"
    },
    {
     "data": {
      "text/html": [
       "<div>\n",
       "<style scoped>\n",
       "    .dataframe tbody tr th:only-of-type {\n",
       "        vertical-align: middle;\n",
       "    }\n",
       "\n",
       "    .dataframe tbody tr th {\n",
       "        vertical-align: top;\n",
       "    }\n",
       "\n",
       "    .dataframe thead th {\n",
       "        text-align: right;\n",
       "    }\n",
       "</style>\n",
       "<table border=\"1\" class=\"dataframe\">\n",
       "  <thead>\n",
       "    <tr style=\"text-align: right;\">\n",
       "      <th></th>\n",
       "      <th>Variable</th>\n",
       "      <th>Type</th>\n",
       "      <th>Explanation</th>\n",
       "    </tr>\n",
       "  </thead>\n",
       "  <tbody>\n",
       "    <tr>\n",
       "      <td>0</td>\n",
       "      <td>salary</td>\n",
       "      <td>Continuous</td>\n",
       "      <td>Annual salary in dollars</td>\n",
       "    </tr>\n",
       "    <tr>\n",
       "      <td>1</td>\n",
       "      <td>exprior</td>\n",
       "      <td>Continuous</td>\n",
       "      <td>Years of experience prior to working in this f...</td>\n",
       "    </tr>\n",
       "    <tr>\n",
       "      <td>2</td>\n",
       "      <td>yearsworked</td>\n",
       "      <td>Continuous</td>\n",
       "      <td>Years worked in this field</td>\n",
       "    </tr>\n",
       "    <tr>\n",
       "      <td>3</td>\n",
       "      <td>yearsrank</td>\n",
       "      <td>Continuous</td>\n",
       "      <td>Years worked at current rank</td>\n",
       "    </tr>\n",
       "    <tr>\n",
       "      <td>4</td>\n",
       "      <td>market</td>\n",
       "      <td>Continuous</td>\n",
       "      <td>Market value (1 = salary at market value for p...</td>\n",
       "    </tr>\n",
       "  </tbody>\n",
       "</table>\n",
       "</div>"
      ],
      "text/plain": [
       "      Variable        Type                                        Explanation\n",
       "0       salary  Continuous                           Annual salary in dollars\n",
       "1      exprior  Continuous  Years of experience prior to working in this f...\n",
       "2  yearsworked  Continuous                         Years worked in this field\n",
       "3    yearsrank  Continuous                      Years worked at current rank \n",
       "4       market  Continuous  Market value (1 = salary at market value for p..."
      ]
     },
     "metadata": {},
     "output_type": "display_data"
    }
   ],
   "source": [
    "salary_data = pd.read_csv('salary.csv')\n",
    "salary_meta = pd.read_csv('Salary metadata.csv', sep=';')\n",
    "\n",
    "display(salary_data.head())\n",
    "display(salary_meta.head())"
   ]
  },
  {
   "cell_type": "markdown",
   "metadata": {},
   "source": [
    "#### Missing values"
   ]
  },
  {
   "cell_type": "code",
   "execution_count": 3,
   "metadata": {},
   "outputs": [
    {
     "data": {
      "text/plain": [
       "salary         1\n",
       "exprior        0\n",
       "yearsworked    0\n",
       "yearsrank      0\n",
       "market         0\n",
       "degree         0\n",
       "otherqual      0\n",
       "position       0\n",
       "male           0\n",
       "Field          0\n",
       "yearsabs       0\n",
       "dtype: int64"
      ]
     },
     "execution_count": 3,
     "metadata": {},
     "output_type": "execute_result"
    }
   ],
   "source": [
    "salary_data.isnull().sum()"
   ]
  },
  {
   "cell_type": "code",
   "execution_count": 4,
   "metadata": {},
   "outputs": [],
   "source": [
    "# droping missing values\n",
    "\n",
    "new_salary_data = salary_data.dropna()"
   ]
  },
  {
   "cell_type": "code",
   "execution_count": 5,
   "metadata": {},
   "outputs": [
    {
     "data": {
      "text/plain": [
       "0"
      ]
     },
     "execution_count": 5,
     "metadata": {},
     "output_type": "execute_result"
    }
   ],
   "source": [
    "# confirmation from missing values\n",
    "new_salary_data.isnull().sum().sum()"
   ]
  },
  {
   "cell_type": "markdown",
   "metadata": {},
   "source": [
    " "
   ]
  },
  {
   "cell_type": "markdown",
   "metadata": {},
   "source": [
    " "
   ]
  },
  {
   "cell_type": "markdown",
   "metadata": {},
   "source": [
    "## 1. Performing some exploratory data analys (EDA): by creating appropariate plots to visualise and investigate relatioships between dependent variables and the target/independent variable (salary)"
   ]
  },
  {
   "cell_type": "markdown",
   "metadata": {},
   "source": [
    "#### -  A descriptive statistics table to further characterise and describe the population under investigation"
   ]
  },
  {
   "cell_type": "code",
   "execution_count": 6,
   "metadata": {},
   "outputs": [
    {
     "data": {
      "text/html": [
       "<div>\n",
       "<style scoped>\n",
       "    .dataframe tbody tr th:only-of-type {\n",
       "        vertical-align: middle;\n",
       "    }\n",
       "\n",
       "    .dataframe tbody tr th {\n",
       "        vertical-align: top;\n",
       "    }\n",
       "\n",
       "    .dataframe thead th {\n",
       "        text-align: right;\n",
       "    }\n",
       "</style>\n",
       "<table border=\"1\" class=\"dataframe\">\n",
       "  <thead>\n",
       "    <tr style=\"text-align: right;\">\n",
       "      <th></th>\n",
       "      <th>salary</th>\n",
       "      <th>exprior</th>\n",
       "      <th>yearsworked</th>\n",
       "      <th>yearsrank</th>\n",
       "      <th>market</th>\n",
       "      <th>degree</th>\n",
       "      <th>otherqual</th>\n",
       "      <th>position</th>\n",
       "      <th>male</th>\n",
       "      <th>Field</th>\n",
       "      <th>yearsabs</th>\n",
       "    </tr>\n",
       "  </thead>\n",
       "  <tbody>\n",
       "    <tr>\n",
       "      <td>salary</td>\n",
       "      <td>1.000000</td>\n",
       "      <td>0.119989</td>\n",
       "      <td>0.623589</td>\n",
       "      <td>0.610706</td>\n",
       "      <td>0.407214</td>\n",
       "      <td>0.044554</td>\n",
       "      <td>0.167137</td>\n",
       "      <td>0.702122</td>\n",
       "      <td>0.361564</td>\n",
       "      <td>-0.499316</td>\n",
       "      <td>-0.069630</td>\n",
       "    </tr>\n",
       "    <tr>\n",
       "      <td>exprior</td>\n",
       "      <td>0.119989</td>\n",
       "      <td>1.000000</td>\n",
       "      <td>-0.245788</td>\n",
       "      <td>-0.065893</td>\n",
       "      <td>-0.035202</td>\n",
       "      <td>-0.049165</td>\n",
       "      <td>0.264655</td>\n",
       "      <td>0.118031</td>\n",
       "      <td>0.047276</td>\n",
       "      <td>-0.046854</td>\n",
       "      <td>0.132022</td>\n",
       "    </tr>\n",
       "    <tr>\n",
       "      <td>yearsworked</td>\n",
       "      <td>0.623589</td>\n",
       "      <td>-0.245788</td>\n",
       "      <td>1.000000</td>\n",
       "      <td>0.813456</td>\n",
       "      <td>-0.070740</td>\n",
       "      <td>0.028122</td>\n",
       "      <td>-0.040157</td>\n",
       "      <td>0.746311</td>\n",
       "      <td>0.278286</td>\n",
       "      <td>-0.264208</td>\n",
       "      <td>0.056113</td>\n",
       "    </tr>\n",
       "    <tr>\n",
       "      <td>yearsrank</td>\n",
       "      <td>0.610706</td>\n",
       "      <td>-0.065893</td>\n",
       "      <td>0.813456</td>\n",
       "      <td>1.000000</td>\n",
       "      <td>-0.026869</td>\n",
       "      <td>0.006347</td>\n",
       "      <td>0.007232</td>\n",
       "      <td>0.484891</td>\n",
       "      <td>0.237397</td>\n",
       "      <td>-0.265620</td>\n",
       "      <td>0.035962</td>\n",
       "    </tr>\n",
       "    <tr>\n",
       "      <td>market</td>\n",
       "      <td>0.407214</td>\n",
       "      <td>-0.035202</td>\n",
       "      <td>-0.070740</td>\n",
       "      <td>-0.026869</td>\n",
       "      <td>1.000000</td>\n",
       "      <td>0.036456</td>\n",
       "      <td>0.021641</td>\n",
       "      <td>-0.013116</td>\n",
       "      <td>0.181401</td>\n",
       "      <td>-0.223887</td>\n",
       "      <td>-0.167177</td>\n",
       "    </tr>\n",
       "    <tr>\n",
       "      <td>degree</td>\n",
       "      <td>0.044554</td>\n",
       "      <td>-0.049165</td>\n",
       "      <td>0.028122</td>\n",
       "      <td>0.006347</td>\n",
       "      <td>0.036456</td>\n",
       "      <td>1.000000</td>\n",
       "      <td>-0.214654</td>\n",
       "      <td>0.043335</td>\n",
       "      <td>0.061419</td>\n",
       "      <td>-0.099077</td>\n",
       "      <td>0.029447</td>\n",
       "    </tr>\n",
       "    <tr>\n",
       "      <td>otherqual</td>\n",
       "      <td>0.167137</td>\n",
       "      <td>0.264655</td>\n",
       "      <td>-0.040157</td>\n",
       "      <td>0.007232</td>\n",
       "      <td>0.021641</td>\n",
       "      <td>-0.214654</td>\n",
       "      <td>1.000000</td>\n",
       "      <td>0.160941</td>\n",
       "      <td>0.016082</td>\n",
       "      <td>-0.076202</td>\n",
       "      <td>-0.017792</td>\n",
       "    </tr>\n",
       "    <tr>\n",
       "      <td>position</td>\n",
       "      <td>0.702122</td>\n",
       "      <td>0.118031</td>\n",
       "      <td>0.746311</td>\n",
       "      <td>0.484891</td>\n",
       "      <td>-0.013116</td>\n",
       "      <td>0.043335</td>\n",
       "      <td>0.160941</td>\n",
       "      <td>1.000000</td>\n",
       "      <td>0.317390</td>\n",
       "      <td>-0.292313</td>\n",
       "      <td>0.030521</td>\n",
       "    </tr>\n",
       "    <tr>\n",
       "      <td>male</td>\n",
       "      <td>0.361564</td>\n",
       "      <td>0.047276</td>\n",
       "      <td>0.278286</td>\n",
       "      <td>0.237397</td>\n",
       "      <td>0.181401</td>\n",
       "      <td>0.061419</td>\n",
       "      <td>0.016082</td>\n",
       "      <td>0.317390</td>\n",
       "      <td>1.000000</td>\n",
       "      <td>-0.130599</td>\n",
       "      <td>-0.622058</td>\n",
       "    </tr>\n",
       "    <tr>\n",
       "      <td>Field</td>\n",
       "      <td>-0.499316</td>\n",
       "      <td>-0.046854</td>\n",
       "      <td>-0.264208</td>\n",
       "      <td>-0.265620</td>\n",
       "      <td>-0.223887</td>\n",
       "      <td>-0.099077</td>\n",
       "      <td>-0.076202</td>\n",
       "      <td>-0.292313</td>\n",
       "      <td>-0.130599</td>\n",
       "      <td>1.000000</td>\n",
       "      <td>0.000778</td>\n",
       "    </tr>\n",
       "    <tr>\n",
       "      <td>yearsabs</td>\n",
       "      <td>-0.069630</td>\n",
       "      <td>0.132022</td>\n",
       "      <td>0.056113</td>\n",
       "      <td>0.035962</td>\n",
       "      <td>-0.167177</td>\n",
       "      <td>0.029447</td>\n",
       "      <td>-0.017792</td>\n",
       "      <td>0.030521</td>\n",
       "      <td>-0.622058</td>\n",
       "      <td>0.000778</td>\n",
       "      <td>1.000000</td>\n",
       "    </tr>\n",
       "  </tbody>\n",
       "</table>\n",
       "</div>"
      ],
      "text/plain": [
       "               salary   exprior  yearsworked  yearsrank    market    degree  \\\n",
       "salary       1.000000  0.119989     0.623589   0.610706  0.407214  0.044554   \n",
       "exprior      0.119989  1.000000    -0.245788  -0.065893 -0.035202 -0.049165   \n",
       "yearsworked  0.623589 -0.245788     1.000000   0.813456 -0.070740  0.028122   \n",
       "yearsrank    0.610706 -0.065893     0.813456   1.000000 -0.026869  0.006347   \n",
       "market       0.407214 -0.035202    -0.070740  -0.026869  1.000000  0.036456   \n",
       "degree       0.044554 -0.049165     0.028122   0.006347  0.036456  1.000000   \n",
       "otherqual    0.167137  0.264655    -0.040157   0.007232  0.021641 -0.214654   \n",
       "position     0.702122  0.118031     0.746311   0.484891 -0.013116  0.043335   \n",
       "male         0.361564  0.047276     0.278286   0.237397  0.181401  0.061419   \n",
       "Field       -0.499316 -0.046854    -0.264208  -0.265620 -0.223887 -0.099077   \n",
       "yearsabs    -0.069630  0.132022     0.056113   0.035962 -0.167177  0.029447   \n",
       "\n",
       "             otherqual  position      male     Field  yearsabs  \n",
       "salary        0.167137  0.702122  0.361564 -0.499316 -0.069630  \n",
       "exprior       0.264655  0.118031  0.047276 -0.046854  0.132022  \n",
       "yearsworked  -0.040157  0.746311  0.278286 -0.264208  0.056113  \n",
       "yearsrank     0.007232  0.484891  0.237397 -0.265620  0.035962  \n",
       "market        0.021641 -0.013116  0.181401 -0.223887 -0.167177  \n",
       "degree       -0.214654  0.043335  0.061419 -0.099077  0.029447  \n",
       "otherqual     1.000000  0.160941  0.016082 -0.076202 -0.017792  \n",
       "position      0.160941  1.000000  0.317390 -0.292313  0.030521  \n",
       "male          0.016082  0.317390  1.000000 -0.130599 -0.622058  \n",
       "Field        -0.076202 -0.292313 -0.130599  1.000000  0.000778  \n",
       "yearsabs     -0.017792  0.030521 -0.622058  0.000778  1.000000  "
      ]
     },
     "execution_count": 6,
     "metadata": {},
     "output_type": "execute_result"
    }
   ],
   "source": [
    "new_salary_data.corr()"
   ]
  },
  {
   "cell_type": "code",
   "execution_count": 7,
   "metadata": {},
   "outputs": [
    {
     "data": {
      "image/png": "[encoded data removed]",
      "text/plain": [
       "<Figure size 432x288 with 2 Axes>"
      ]
     },
     "metadata": {
      "needs_background": "light"
     },
     "output_type": "display_data"
    }
   ],
   "source": [
    "correlation_map = sns.heatmap(new_salary_data.corr())"
   ]
  },
  {
   "cell_type": "code",
   "execution_count": 8,
   "metadata": {},
   "outputs": [
    {
     "data": {
      "text/html": [
       "<div>\n",
       "<style scoped>\n",
       "    .dataframe tbody tr th:only-of-type {\n",
       "        vertical-align: middle;\n",
       "    }\n",
       "\n",
       "    .dataframe tbody tr th {\n",
       "        vertical-align: top;\n",
       "    }\n",
       "\n",
       "    .dataframe thead th {\n",
       "        text-align: right;\n",
       "    }\n",
       "</style>\n",
       "<table border=\"1\" class=\"dataframe\">\n",
       "  <thead>\n",
       "    <tr style=\"text-align: right;\">\n",
       "      <th></th>\n",
       "      <th>salary</th>\n",
       "      <th>yearsworked</th>\n",
       "      <th>yearsrank</th>\n",
       "      <th>position</th>\n",
       "      <th>Field</th>\n",
       "    </tr>\n",
       "  </thead>\n",
       "  <tbody>\n",
       "    <tr>\n",
       "      <td>count</td>\n",
       "      <td>513.000000</td>\n",
       "      <td>513.000000</td>\n",
       "      <td>513.000000</td>\n",
       "      <td>513.000000</td>\n",
       "      <td>513.000000</td>\n",
       "    </tr>\n",
       "    <tr>\n",
       "      <td>mean</td>\n",
       "      <td>50863.220098</td>\n",
       "      <td>12.836257</td>\n",
       "      <td>7.046784</td>\n",
       "      <td>2.130604</td>\n",
       "      <td>2.526316</td>\n",
       "    </tr>\n",
       "    <tr>\n",
       "      <td>std</td>\n",
       "      <td>12685.132358</td>\n",
       "      <td>9.447040</td>\n",
       "      <td>6.419708</td>\n",
       "      <td>0.819977</td>\n",
       "      <td>1.126644</td>\n",
       "    </tr>\n",
       "    <tr>\n",
       "      <td>min</td>\n",
       "      <td>29000.000000</td>\n",
       "      <td>0.000000</td>\n",
       "      <td>0.000000</td>\n",
       "      <td>1.000000</td>\n",
       "      <td>1.000000</td>\n",
       "    </tr>\n",
       "    <tr>\n",
       "      <td>25%</td>\n",
       "      <td>40000.000000</td>\n",
       "      <td>4.000000</td>\n",
       "      <td>2.000000</td>\n",
       "      <td>1.000000</td>\n",
       "      <td>2.000000</td>\n",
       "    </tr>\n",
       "    <tr>\n",
       "      <td>50%</td>\n",
       "      <td>50096.000000</td>\n",
       "      <td>12.000000</td>\n",
       "      <td>5.000000</td>\n",
       "      <td>2.000000</td>\n",
       "      <td>3.000000</td>\n",
       "    </tr>\n",
       "    <tr>\n",
       "      <td>75%</td>\n",
       "      <td>60345.000000</td>\n",
       "      <td>22.000000</td>\n",
       "      <td>12.000000</td>\n",
       "      <td>3.000000</td>\n",
       "      <td>4.000000</td>\n",
       "    </tr>\n",
       "    <tr>\n",
       "      <td>max</td>\n",
       "      <td>96156.000000</td>\n",
       "      <td>41.000000</td>\n",
       "      <td>28.000000</td>\n",
       "      <td>3.000000</td>\n",
       "      <td>4.000000</td>\n",
       "    </tr>\n",
       "  </tbody>\n",
       "</table>\n",
       "</div>"
      ],
      "text/plain": [
       "             salary  yearsworked   yearsrank    position       Field\n",
       "count    513.000000   513.000000  513.000000  513.000000  513.000000\n",
       "mean   50863.220098    12.836257    7.046784    2.130604    2.526316\n",
       "std    12685.132358     9.447040    6.419708    0.819977    1.126644\n",
       "min    29000.000000     0.000000    0.000000    1.000000    1.000000\n",
       "25%    40000.000000     4.000000    2.000000    1.000000    2.000000\n",
       "50%    50096.000000    12.000000    5.000000    2.000000    3.000000\n",
       "75%    60345.000000    22.000000   12.000000    3.000000    4.000000\n",
       "max    96156.000000    41.000000   28.000000    3.000000    4.000000"
      ]
     },
     "execution_count": 8,
     "metadata": {},
     "output_type": "execute_result"
    }
   ],
   "source": [
    "predictors = new_salary_data[['salary','yearsworked','yearsrank','position','Field']].describe()\n",
    "predictors"
   ]
  },
  {
   "cell_type": "code",
   "execution_count": 9,
   "metadata": {},
   "outputs": [
    {
     "data": {
      "text/plain": [
       "array([[<matplotlib.axes._subplots.AxesSubplot object at 0x00000275046F27C8>,\n",
       "        <matplotlib.axes._subplots.AxesSubplot object at 0x00000275046A7648>,\n",
       "        <matplotlib.axes._subplots.AxesSubplot object at 0x0000027504752A88>],\n",
       "       [<matplotlib.axes._subplots.AxesSubplot object at 0x000002750478C888>,\n",
       "        <matplotlib.axes._subplots.AxesSubplot object at 0x00000275047C5988>,\n",
       "        <matplotlib.axes._subplots.AxesSubplot object at 0x00000275047FDAC8>],\n",
       "       [<matplotlib.axes._subplots.AxesSubplot object at 0x0000027504835B08>,\n",
       "        <matplotlib.axes._subplots.AxesSubplot object at 0x000002750486DC08>,\n",
       "        <matplotlib.axes._subplots.AxesSubplot object at 0x0000027504878808>],\n",
       "       [<matplotlib.axes._subplots.AxesSubplot object at 0x00000275048B1A08>,\n",
       "        <matplotlib.axes._subplots.AxesSubplot object at 0x0000027504918F48>,\n",
       "        <matplotlib.axes._subplots.AxesSubplot object at 0x000002750494BD88>]],\n",
       "      dtype=object)"
      ]
     },
     "execution_count": 9,
     "metadata": {},
     "output_type": "execute_result"
    },
    {
     "data": {
      "image/png": "[encoded data removed]",
      "text/plain": [
       "<Figure size 432x288 with 12 Axes>"
      ]
     },
     "metadata": {
      "needs_background": "light"
     },
     "output_type": "display_data"
    }
   ],
   "source": [
    "_ = new_salary_data.hist()"
   ]
  },
  {
   "cell_type": "code",
   "execution_count": null,
   "metadata": {},
   "outputs": [],
   "source": []
  }
 ],
 "metadata": {
  "kernelspec": {
   "display_name": "Python 3",
   "language": "python",
   "name": "python3"
  },
  "language_info": {
   "codemirror_mode": {
    "name": "ipython",
    "version": 3
   },
   "file_extension": ".py",
   "mimetype": "text/x-python",
   "name": "python",
   "nbconvert_exporter": "python",
   "pygments_lexer": "ipython3",
   "version": "3.7.4"
  }
 },
 "nbformat": 4,
 "nbformat_minor": 2
}
